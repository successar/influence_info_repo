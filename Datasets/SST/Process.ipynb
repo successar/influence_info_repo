{
 "cells": [
  {
   "cell_type": "code",
   "execution_count": 4,
   "metadata": {
    "tags": []
   },
   "outputs": [
    {
     "output_type": "stream",
     "name": "stdout",
     "text": "Archive:  trainDevTestTrees_PTB.zip\n   creating: trees/\n  inflating: trees/dev.txt           \n  inflating: trees/test.txt          \n  inflating: trees/train.txt         \n"
    }
   ],
   "source": [
    "# !wget https://nlp.stanford.edu/sentiment/trainDevTestTrees_PTB.zip\n",
    "!unzip trainDevTestTrees_PTB.zip"
   ]
  },
  {
   "cell_type": "code",
   "execution_count": 2,
   "metadata": {
    "tags": []
   },
   "outputs": [
    {
     "output_type": "stream",
     "name": "stdout",
     "text": "6920\n872\n1821\n"
    }
   ],
   "source": [
    "import nltk\n",
    "a = nltk.corpus.BracketParseCorpusReader(\"trees\", \"(train|dev|test)\\.txt\")\n",
    "\n",
    "text = {}\n",
    "labels = {}\n",
    "keys = ['train', 'dev', 'test']\n",
    "for k in keys :\n",
    "    text[k] = [x.leaves() for x in a.parsed_sents(k+'.txt') if x.label() != '2']\n",
    "    labels[k] = [int(x.label()) for x in a.parsed_sents(k+'.txt') if x.label() != '2']\n",
    "    print(len(text[k]))\n",
    "    \n",
    "import spacy\n",
    "nlp = spacy.load('en', disable=['parser', 'tagger', 'ner'])\n",
    "import re\n",
    "\n",
    "def tokenize(text) :\n",
    "    text = \" \".join(text)\n",
    "    text = text.replace(\"-LRB-\", '')\n",
    "    text = text.replace(\"-RRB-\", \" \")\n",
    "    text = re.sub(r'\\W', ' ', text)\n",
    "    text = re.sub(r'\\s+', ' ', text)\n",
    "    text = text.strip()\n",
    "    tokens = \" \".join([t.text.lower() for t in nlp(text)])\n",
    "    return tokens\n",
    "\n",
    "for k in keys :\n",
    "    text[k] = [tokenize(t) for t in text[k]]\n",
    "    labels[k] = [1 if x >= 3 else 0 for x in labels[k]]"
   ]
  },
  {
   "cell_type": "code",
   "execution_count": 6,
   "metadata": {},
   "outputs": [],
   "source": [
    "import pandas as pd\n",
    "df_texts = []\n",
    "df_labels = []\n",
    "df_exp_split = []\n",
    "\n",
    "for k in keys :\n",
    "    df_texts += text[k]\n",
    "    df_labels += labels[k]\n",
    "    df_exp_split += [k]*len(text[k])\n",
    "    \n",
    "data = pd.DataFrame({'text' : df_texts, 'label' : df_labels, 'exp_split' : df_exp_split}) "
   ]
  },
  {
   "cell_type": "code",
   "execution_count": 7,
   "metadata": {
    "tags": []
   },
   "outputs": [
    {
     "output_type": "stream",
     "name": "stderr",
     "text": "100%|██████████| 6920/6920 [00:00<00:00, 1343046.77it/s]\n100%|██████████| 872/872 [00:00<00:00, 1059818.34it/s]\n100%|██████████| 1821/1821 [00:00<00:00, 1632363.24it/s]\n"
    }
   ],
   "source": [
    "import json\n",
    "from tqdm import tqdm\n",
    "\n",
    "import os\n",
    "os.makedirs('data/', exist_ok=True)\n",
    "for key in ['train', 'dev', 'test'] :\n",
    "    data_key = data[data.exp_split == key].to_dict(orient='records')\n",
    "    data_key = [{'document' : x['text'], 'label' : x['label']} for x in tqdm(data_key)]\n",
    "    f = open('data/' + key + '.jsonl', 'w')\n",
    "    f.write('\\n'.join([json.dumps(line) for line in data_key]))\n",
    "    f.close()"
   ]
  },
  {
   "cell_type": "code",
   "execution_count": 8,
   "metadata": {},
   "outputs": [],
   "source": [
    "import json\n",
    "for key in ['train', 'dev', 'test'] :\n",
    "    data_key = [json.loads(line) for line in open('data/' + key + '.jsonl')]\n",
    "    for i, d in enumerate(data_key) :\n",
    "        d['idx'] = key + '_' + str(i)\n",
    "    f = open('data/' + key + '.jsonl', 'w')\n",
    "    f.write('\\n'.join([json.dumps(line) for line in data_key]))\n",
    "    f.close()"
   ]
  },
  {
   "cell_type": "code",
   "execution_count": null,
   "metadata": {},
   "outputs": [],
   "source": []
  }
 ],
 "metadata": {
  "kernelspec": {
   "name": "Python 3.8.5 64-bit ('influence': conda)",
   "display_name": "Python 3.8.5 64-bit ('influence': conda)",
   "metadata": {
    "interpreter": {
     "hash": "d548a0300c69c4dda33a8bf8388c1f48c0659ff1e0921268272b8c83f36ae0a5"
    }
   }
  },
  "language_info": {
   "codemirror_mode": {
    "name": "ipython",
    "version": 3
   },
   "file_extension": ".py",
   "mimetype": "text/x-python",
   "name": "python",
   "nbconvert_exporter": "python",
   "pygments_lexer": "ipython3",
   "version": "3.8.5-final"
  }
 },
 "nbformat": 4,
 "nbformat_minor": 4
}