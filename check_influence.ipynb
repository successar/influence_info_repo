{
 "cells": [
  {
   "cell_type": "code",
   "execution_count": 1,
   "metadata": {},
   "outputs": [],
   "source": [
    "import numpy as np\n",
    "import json"
   ]
  },
  {
   "cell_type": "code",
   "execution_count": 5,
   "metadata": {},
   "outputs": [],
   "source": [
    "influence_values = np.load('outputs/SST/test/transformer_text_classifier/representer_points_with_LR/influence_values.npy')\n",
    "training_idx, validation_idx = [json.load(open(f'outputs/SST/test/transformer_text_classifier/representer_points/{x}_idx.json')) for x in ['training', 'validation']]"
   ]
  },
  {
   "cell_type": "code",
   "execution_count": 6,
   "metadata": {},
   "outputs": [],
   "source": [
    "training_data = {x['idx'] : x for x in [json.loads(line) for line in open('Datasets/SST/data/train.jsonl')]}\n",
    "validation_data = {x['idx'] : x for x in [json.loads(line) for line in open('Datasets/SST/data/dev.jsonl')]}"
   ]
  },
  {
   "cell_type": "code",
   "execution_count": 7,
   "metadata": {
    "tags": []
   },
   "outputs": [
    {
     "output_type": "stream",
     "name": "stdout",
     "text": "we know the plot s a little crazy but it held my interest from start to finish\n---\n23.50100470513179 by no means a slam dunk and sure to ultimately disappoint the action fans who will be moved to the edge of their seats by the dynamic first act it still comes off as a touching transcendent love story\n22.959108433199614 there s something fishy about a seasonal holiday kids movie that derives its moment of most convincing emotional gravity from a scene where santa gives gifts to grownups\n22.59351332913251 if you want a movie time trip the 1960 version is a far smoother ride\n22.062956591157896 it s coherent well shot and tartly acted but it wears you down like a dinner guest showing off his doctorate\n21.555097421726675 while the humor aspects of jason x were far more entertaining than i had expected everything else about the film tanks\n==============================\nsam mendes has become valedictorian at the school for soft landings and easy ways out\n---\n22.522008283144462 even if you ve never heard of chaplin you ll still be glued to the screen\n22.49946086968926 birthday girl walks a tricky tightrope between being wickedly funny and just plain wicked\n21.85033589887319 mindless yet impressively lean spinoff of last summer s bloated effects fest the mummy returns\n21.710789720150707 as a science fiction movie minority report astounds\n21.66940076633011 frailty has been written so well that even a simple goddammit\n==============================\nnot the kind of film that will appeal to a mainstream american audience but there is a certain charm about the film that makes it a suitable entry into the fest circuit\n---\n27.253856016856638 synthetic is the best description of this well meaning beautifully produced film that sacrifices its promise for a high powered star pedigree\n27.168814684730876 by no means a slam dunk and sure to ultimately disappoint the action fans who will be moved to the edge of their seats by the dynamic first act it still comes off as a touching transcendent love story\n26.732320278948368 there s something fishy about a seasonal holiday kids movie that derives its moment of most convincing emotional gravity from a scene where santa gives gifts to grownups\n26.23419774656443 lyne s latest the erotic thriller unfaithful further demonstrates just how far his storytelling skills have eroded\n25.93229199739398 its message has merit and in the hands of a brutally honest individual like prophet jack might have made a point or two regarding life\n==============================\ncrackerjack entertainment nonstop romance music suspense and action\n---\n23.697835203947708 eight legged freaks wo n t join the pantheon of great monster science fiction flicks that we have come to love\n23.56725619373139 it s quite an achievement to set and shoot a movie at the cannes film festival and yet fail to capture its visual appeal or its atmosphere\n22.948519229975403 there s something fishy about a seasonal holiday kids movie that derives its moment of most convincing emotional gravity from a scene where santa gives gifts to grownups\n22.862837624646097 a perfect example of rancid well intentioned but shamelessly manipulative movie making\n22.81687174680813 with ichi the killer takashi miike japan s wildest filmmaker gives us a crime fighter carrying more emotional baggage than batman\n==============================\nwriter director s mehta s effort has tons of charm and the whimsy is in the mixture the intoxicating masala of cultures and film genres\n---\n26.815778581024194 synthetic is the best description of this well meaning beautifully produced film that sacrifices its promise for a high powered star pedigree\n26.07421891058687 by no means a slam dunk and sure to ultimately disappoint the action fans who will be moved to the edge of their seats by the dynamic first act it still comes off as a touching transcendent love story\n26.06708589903385 gaghan captures the half lit sometimes creepy intimacy of college dorm rooms a subtlety that makes the silly over the top coda especially disappointing\n25.846069683336246 it s quite an achievement to set and shoot a movie at the cannes film festival and yet fail to capture its visual appeal or its atmosphere\n25.659497830905476 it does n t make for great cinema but it is interesting to see where one s imagination will lead when given the opportunity\n==============================\n"
    }
   ],
   "source": [
    "import random\n",
    "\n",
    "for i in range(5) :\n",
    "    i = random.randint(0, 800)\n",
    "    v = validation_data[f'dev_{i}']\n",
    "    print(v['document'])\n",
    "    print(\"---\")\n",
    "    vals = influence_values[i, :, v['label']]\n",
    "    top = np.argsort(vals)[-5:]\n",
    "    for j in top[::-1] :\n",
    "        print(vals[j], training_data[f'train_{j}']['document'])\n",
    "    print(\"===\"*10)"
   ]
  },
  {
   "cell_type": "code",
   "execution_count": 7,
   "metadata": {},
   "outputs": [
    {
     "data": {
      "text/plain": [
       "(872, 6920, 2)"
      ]
     },
     "execution_count": 7,
     "metadata": {},
     "output_type": "execute_result"
    }
   ],
   "source": [
    "influence_values.shape"
   ]
  },
  {
   "cell_type": "code",
   "execution_count": null,
   "metadata": {},
   "outputs": [],
   "source": []
  }
 ],
 "metadata": {
  "kernelspec": {
   "display_name": "Python 3",
   "language": "python",
   "name": "python3"
  },
  "language_info": {
   "codemirror_mode": {
    "name": "ipython",
    "version": 3
   },
   "file_extension": ".py",
   "mimetype": "text/x-python",
   "name": "python",
   "nbconvert_exporter": "python",
   "pygments_lexer": "ipython3",
   "version": "3.8.5-final"
  }
 },
 "nbformat": 4,
 "nbformat_minor": 4
}